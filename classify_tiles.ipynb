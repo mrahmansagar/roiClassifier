{
 "cells": [
  {
   "cell_type": "code",
   "execution_count": 1,
   "id": "2194ddaf",
   "metadata": {},
   "outputs": [],
   "source": [
    "# import necessary libraries \n",
    "import os \n",
    "import shutil\n",
    "from tkinter import Tcl\n",
    "from tqdm import tqdm \n",
    "\n",
    "import numpy as np\n",
    "import matplotlib.pyplot as plt\n",
    "\n",
    "from PIL import Image\n",
    "from scipy import ndimage\n",
    "\n",
    "from preProcessingUtils import *\n",
    " "
   ]
  },
  {
   "cell_type": "code",
   "execution_count": 7,
   "id": "01d4649e",
   "metadata": {},
   "outputs": [],
   "source": [
    "data_dir = 'E:\\\\sagar\\\\Data\\\\MD_1264_A9_Z0.0mm_Z6.6mm\\\\tiles'\n",
    "tiles = os.listdir(data_dir)\n",
    "\n",
    "roi_dir = data_dir.replace('\\\\tiles', '\\\\TP')\n",
    "notRoi_dir = data_dir.replace('\\\\tiles', '\\\\TN')"
   ]
  },
  {
   "cell_type": "code",
   "execution_count": 3,
   "id": "7ae7461d",
   "metadata": {},
   "outputs": [],
   "source": [
    "from tensorflow.keras.models import load_model"
   ]
  },
  {
   "cell_type": "code",
   "execution_count": 4,
   "id": "79dbc021",
   "metadata": {},
   "outputs": [
    {
     "name": "stdout",
     "output_type": "stream",
     "text": [
      "WARNING:tensorflow:From C:\\Users\\Manager\\.conda\\envs\\tf_gpu\\lib\\site-packages\\tensorflow_core\\python\\ops\\init_ops.py:97: calling GlorotUniform.__init__ (from tensorflow.python.ops.init_ops) with dtype is deprecated and will be removed in a future version.\n",
      "Instructions for updating:\n",
      "Call initializer instance with the dtype argument instead of passing it to the constructor\n",
      "WARNING:tensorflow:From C:\\Users\\Manager\\.conda\\envs\\tf_gpu\\lib\\site-packages\\tensorflow_core\\python\\ops\\init_ops.py:97: calling Zeros.__init__ (from tensorflow.python.ops.init_ops) with dtype is deprecated and will be removed in a future version.\n",
      "Instructions for updating:\n",
      "Call initializer instance with the dtype argument instead of passing it to the constructor\n",
      "WARNING:tensorflow:From C:\\Users\\Manager\\.conda\\envs\\tf_gpu\\lib\\site-packages\\tensorflow_core\\python\\ops\\resource_variable_ops.py:1630: calling BaseResourceVariable.__init__ (from tensorflow.python.ops.resource_variable_ops) with constraint is deprecated and will be removed in a future version.\n",
      "Instructions for updating:\n",
      "If using Keras pass *_constraint arguments to layers.\n",
      "WARNING:tensorflow:From C:\\Users\\Manager\\.conda\\envs\\tf_gpu\\lib\\site-packages\\tensorflow_core\\python\\ops\\init_ops.py:97: calling Ones.__init__ (from tensorflow.python.ops.init_ops) with dtype is deprecated and will be removed in a future version.\n",
      "Instructions for updating:\n",
      "Call initializer instance with the dtype argument instead of passing it to the constructor\n"
     ]
    }
   ],
   "source": [
    "modelName = 'best_model_09271238.hdf5'\n",
    "modelPath = 'models/'+ modelName\n",
    "\n",
    "model = load_model(modelPath)"
   ]
  },
  {
   "cell_type": "code",
   "execution_count": 8,
   "id": "d1c0fe98",
   "metadata": {},
   "outputs": [],
   "source": [
    "# aTile = os.path.join(data_dir, tiles[6])\n",
    "# print(aTile)\n",
    "# formattedData = np.zeros(shape=(1, 150, 150, 150, 1), dtype='bool')\n",
    "# raw_vol = []\n",
    "# #sorting the slices according to their names like in windows \n",
    "# slices = Tcl().call('lsort', '-dict', os.listdir(aTile))\n",
    "# for aSlice in slices:\n",
    "#     img = Image.open(os.path.join(aTile, aSlice))\n",
    "#     imgarray = np.array(img)\n",
    "#     raw_vol.append(imgarray)\n",
    "\n",
    "# raw_vol = np.asarray(raw_vol)\n",
    "# raw_vol = np.nan_to_num(raw_vol)\n",
    "# raw_vol = np.clip(raw_vol, 0.0005, 0.003)\n",
    "# plt.imshow(raw_vol[150, :, :], cmap='gray')\n",
    "# plt.show()\n",
    "# raw_vol = ndimage.zoom(raw_vol, (0.5, 0.5, 0.5), order=1)\n",
    "# # Normalize the data : 0-1\n",
    "# vol = norm8bit(raw_vol)\n",
    "# th_vol = vol < 55\n",
    "\n",
    "# formattedData[0, :, :, :, 0] = th_vol\n",
    "\n",
    "# predicted = model.predict(formattedData)\n",
    "\n",
    "# print(str(predicted[0][0]*100) + ' % ROI')\n",
    "# print(str(predicted[0][1]*100) + ' % not ROI')\n",
    "\n"
   ]
  },
  {
   "cell_type": "code",
   "execution_count": 8,
   "id": "3456050d",
   "metadata": {},
   "outputs": [
    {
     "name": "stderr",
     "output_type": "stream",
     "text": [
      "100%|████████████████████████████████████████████████████████████████████████████████| 640/640 [32:29<00:00,  3.05s/it]\n"
     ]
    }
   ],
   "source": [
    "roi = []\n",
    "not_roi = []\n",
    "\n",
    "for atile in tqdm(tiles):\n",
    "    tile_path = os.path.join(data_dir, atile)\n",
    "    formattedData = np.zeros(shape=(1, 150, 150, 150, 1), dtype='bool')\n",
    "    raw_vol = []\n",
    "    #sorting the slices according to their names like in windows \n",
    "    slices = Tcl().call('lsort', '-dict', os.listdir(tile_path))\n",
    "    for aSlice in slices:\n",
    "        img = Image.open(os.path.join(tile_path, aSlice))\n",
    "        imgarray = np.array(img)\n",
    "        raw_vol.append(imgarray)\n",
    "\n",
    "    raw_vol = np.asarray(raw_vol)\n",
    "    raw_vol = np.nan_to_num(raw_vol)\n",
    "    raw_vol = np.clip(raw_vol, 0.0005, 0.003)\n",
    "    raw_vol = ndimage.zoom(raw_vol, (0.5, 0.5, 0.5), order=1)\n",
    "    # Normalize the data : 0-1\n",
    "    vol = norm8bit(raw_vol)\n",
    "    th_vol = vol < 55\n",
    "\n",
    "    formattedData[0, :, :, :, 0] = th_vol\n",
    "\n",
    "    predicted = model.predict(formattedData)\n",
    "\n",
    "    if predicted[0][0] >= 0.5:\n",
    "        shutil.copytree(tile_path, os.path.join(roi_dir, atile))\n",
    "        roi.append(atile)\n",
    "\n",
    "    else:\n",
    "        shutil.copytree(tile_path, os.path.join(notRoi_dir, atile))\n",
    "        not_roi.append(atile)\n",
    "\n",
    "classified = {}\n",
    "classified['roi'] = roi\n",
    "classified['not_roi'] = not_roi\n",
    "\n",
    "import json\n",
    "jsonString = json.dumps(classified)\n",
    "jsonFile = open(data_dir.split('tiles')[0] + 'Classified_' + modelName.split('.')[0] + '.json', \"w\")\n",
    "jsonFile.write(jsonString)\n",
    "jsonFile.close()"
   ]
  },
  {
   "cell_type": "code",
   "execution_count": 9,
   "id": "4ec5c53e",
   "metadata": {},
   "outputs": [],
   "source": []
  },
  {
   "cell_type": "markdown",
   "id": "2f4c7f35",
   "metadata": {},
   "source": [
    "## Visualization"
   ]
  },
  {
   "cell_type": "code",
   "execution_count": 19,
   "id": "83d0af21",
   "metadata": {},
   "outputs": [],
   "source": []
  },
  {
   "cell_type": "code",
   "execution_count": null,
   "id": "d3228195",
   "metadata": {},
   "outputs": [],
   "source": []
  }
 ],
 "metadata": {
  "kernelspec": {
   "display_name": "Python 3 (ipykernel)",
   "language": "python",
   "name": "python3"
  },
  "language_info": {
   "codemirror_mode": {
    "name": "ipython",
    "version": 3
   },
   "file_extension": ".py",
   "mimetype": "text/x-python",
   "name": "python",
   "nbconvert_exporter": "python",
   "pygments_lexer": "ipython3",
   "version": "3.7.13"
  }
 },
 "nbformat": 4,
 "nbformat_minor": 5
}

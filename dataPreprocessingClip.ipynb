{
 "cells": [
  {
   "cell_type": "code",
   "execution_count": 1,
   "id": "fae76667",
   "metadata": {},
   "outputs": [],
   "source": [
    "import os\n",
    "from glob import glob\n",
    "from tqdm import tqdm \n",
    "\n",
    "import numpy as np\n",
    "import matplotlib.pyplot as plt \n",
    "\n",
    "import tifffile \n",
    "import json\n",
    "import h5py\n",
    "\n",
    "from PIL import Image\n",
    "from scipy import ndimage\n",
    "\n",
    "from tkinter import Tcl\n",
    "#from random import shuffle\n",
    "\n",
    "from sklearn.utils import shuffle\n",
    "\n",
    "#from random import Random\n",
    "\n",
    "from preProcessingUtils import *"
   ]
  },
  {
   "cell_type": "code",
   "execution_count": 2,
   "id": "1eab3117",
   "metadata": {},
   "outputs": [],
   "source": [
    "root_dir = 'D:\\sagar\\Data'\n",
    "scans = os.listdir(root_dir)"
   ]
  },
  {
   "cell_type": "code",
   "execution_count": 3,
   "id": "faec0e72",
   "metadata": {},
   "outputs": [
    {
     "name": "stdout",
     "output_type": "stream",
     "text": [
      "Found  533  ROI and  561  notROI sample\n"
     ]
    }
   ],
   "source": [
    "path_roi = []\n",
    "path_notRoi = []\n",
    "\n",
    "for s in scans:\n",
    "    scan_path = os.path.join(root_dir, s)\n",
    "    for r in os.listdir(os.path.join(scan_path, 'roi')):\n",
    "        path_roi.append((os.path.join(root_dir, s, 'roi', r)))\n",
    "    try:\n",
    "        for nr in os.listdir(os.path.join(scan_path, 'not_roi')):\n",
    "            path_notRoi.append((os.path.join(root_dir, s, 'not_roi', nr)))\n",
    "    except:\n",
    "        pass\n",
    "\n",
    "print('Found ', len(path_roi), ' ROI and ', len(path_notRoi), ' notROI sample')      "
   ]
  },
  {
   "cell_type": "code",
   "execution_count": 4,
   "id": "62d98ccb",
   "metadata": {},
   "outputs": [],
   "source": [
    "# Shuffleing and choosing the sample for test and train \n",
    "path_roi = shuffle(path_roi, random_state=3)\n",
    "path_notRoi = shuffle(path_notRoi, random_state=3)"
   ]
  },
  {
   "cell_type": "code",
   "execution_count": 5,
   "id": "e19171ae",
   "metadata": {},
   "outputs": [],
   "source": [
    "tmp_roi_path, test_roi_path = path_roi[0:500], path_roi[500:533]\n",
    "tmp_notRoi_path, test_notRoi_path = path_notRoi[0:500], path_notRoi[500:561]"
   ]
  },
  {
   "cell_type": "code",
   "execution_count": 6,
   "id": "08df836e",
   "metadata": {},
   "outputs": [],
   "source": [
    "train_roi_path, val_roi_path = tmp_roi_path[0:425], tmp_roi_path[425:500]\n",
    "train_notRoi_path, val_notRoi_path = tmp_notRoi_path[0:425], tmp_notRoi_path[425:500]"
   ]
  },
  {
   "cell_type": "code",
   "execution_count": 14,
   "id": "beb93f64",
   "metadata": {},
   "outputs": [],
   "source": [
    "def create_formatted_data(dataPath, xdim=300, ydim=300, zdim=300, resize_factor=(0.5, 0.5, 0.5)):\n",
    "    \n",
    "    print('Loading ', len(dataPath), ' Samples.... ')\n",
    "    \n",
    "    formattedData = np.zeros(shape=(len(dataPath), int(xdim*resize_factor[0]), int(ydim*resize_factor[1]), int(zdim*resize_factor[2]), 1), dtype=np.float32)\n",
    "\n",
    "    for i, afile in enumerate(tqdm(dataPath)):\n",
    "        raw_vol = []\n",
    "        #sorting the slices according to their names like in windows \n",
    "        slices = Tcl().call('lsort', '-dict', os.listdir(afile))\n",
    "        for aSlice in slices:\n",
    "            img = Image.open(os.path.join(afile, aSlice))\n",
    "            imgarray = np.array(img)\n",
    "            raw_vol.append(imgarray)\n",
    "\n",
    "        raw_vol = np.asarray(raw_vol)\n",
    "        raw_vol = np.nan_to_num(raw_vol)\n",
    "        raw_vol = np.clip(raw_vol, 0.0005, 0.003)\n",
    "        raw_vol = ndimage.zoom(raw_vol, resize_factor, order=1)\n",
    "        # Normalize the data : 0-1\n",
    "        vol = norm(raw_vol)\n",
    "        formattedData[i, :, :, :, 0] = vol\n",
    "    \n",
    "    print('Loaded ', len(dataPath), ' Samples with shape ', formattedData.shape, '\\n')\n",
    "    return formattedData"
   ]
  },
  {
   "cell_type": "code",
   "execution_count": 15,
   "id": "afc1ab2e",
   "metadata": {},
   "outputs": [
    {
     "name": "stdout",
     "output_type": "stream",
     "text": [
      "Loading  425  Samples.... \n"
     ]
    },
    {
     "name": "stderr",
     "output_type": "stream",
     "text": [
      "100%|████████████████████████████████████████████████████████████████████████████████| 425/425 [19:39<00:00,  2.77s/it]\n"
     ]
    },
    {
     "name": "stdout",
     "output_type": "stream",
     "text": [
      "Loaded  425  Samples with shape  (425, 150, 150, 150, 1) \n",
      "\n",
      "Loading  75  Samples.... \n"
     ]
    },
    {
     "name": "stderr",
     "output_type": "stream",
     "text": [
      "100%|██████████████████████████████████████████████████████████████████████████████████| 75/75 [03:33<00:00,  2.85s/it]\n"
     ]
    },
    {
     "name": "stdout",
     "output_type": "stream",
     "text": [
      "Loaded  75  Samples with shape  (75, 150, 150, 150, 1) \n",
      "\n",
      "Loading  33  Samples.... \n"
     ]
    },
    {
     "name": "stderr",
     "output_type": "stream",
     "text": [
      "100%|██████████████████████████████████████████████████████████████████████████████████| 33/33 [01:39<00:00,  3.01s/it]\n"
     ]
    },
    {
     "name": "stdout",
     "output_type": "stream",
     "text": [
      "Loaded  33  Samples with shape  (33, 150, 150, 150, 1) \n",
      "\n",
      "Loading  425  Samples.... \n"
     ]
    },
    {
     "name": "stderr",
     "output_type": "stream",
     "text": [
      " 77%|█████████████████████████████████████████████████████████████▋                  | 328/425 [15:33<04:21,  2.70s/it]D:\\sagar\\roiClassifier\\preProcessingUtils.py:48: RuntimeWarning: invalid value encountered in true_divide\n",
      "  v = ((v - minVal)/maxVal)\n",
      "100%|████████████████████████████████████████████████████████████████████████████████| 425/425 [20:02<00:00,  2.83s/it]\n"
     ]
    },
    {
     "name": "stdout",
     "output_type": "stream",
     "text": [
      "Loaded  425  Samples with shape  (425, 150, 150, 150, 1) \n",
      "\n",
      "Loading  75  Samples.... \n"
     ]
    },
    {
     "name": "stderr",
     "output_type": "stream",
     "text": [
      "100%|██████████████████████████████████████████████████████████████████████████████████| 75/75 [03:19<00:00,  2.67s/it]\n"
     ]
    },
    {
     "name": "stdout",
     "output_type": "stream",
     "text": [
      "Loaded  75  Samples with shape  (75, 150, 150, 150, 1) \n",
      "\n",
      "Loading  61  Samples.... \n"
     ]
    },
    {
     "name": "stderr",
     "output_type": "stream",
     "text": [
      "100%|██████████████████████████████████████████████████████████████████████████████████| 61/61 [02:44<00:00,  2.70s/it]"
     ]
    },
    {
     "name": "stdout",
     "output_type": "stream",
     "text": [
      "Loaded  61  Samples with shape  (61, 150, 150, 150, 1) \n",
      "\n"
     ]
    },
    {
     "name": "stderr",
     "output_type": "stream",
     "text": [
      "\n"
     ]
    }
   ],
   "source": [
    "train_roi = create_formatted_data(train_roi_path)\n",
    "val_roi = create_formatted_data(val_roi_path)\n",
    "test_roi = create_formatted_data(test_roi_path)\n",
    "\n",
    "\n",
    "train_notRoi = create_formatted_data(train_notRoi_path)\n",
    "val_notRoi = create_formatted_data(val_notRoi_path)\n",
    "test_notRoi = create_formatted_data(test_notRoi_path)"
   ]
  },
  {
   "cell_type": "code",
   "execution_count": 16,
   "id": "88b8d189",
   "metadata": {},
   "outputs": [],
   "source": [
    "# Creating the label \n",
    "train_roi_label = []\n",
    "for i in range(len(train_roi_path)):\n",
    "    train_roi_label.append([1, 0])\n",
    "\n",
    "train_roi_label = np.array(train_roi_label)\n",
    "\n",
    "\n",
    "# Creating the label \n",
    "val_roi_label = []\n",
    "for i in range(len(val_roi_path)):\n",
    "    val_roi_label.append([1, 0])\n",
    "\n",
    "val_roi_label = np.array(val_roi_label)\n",
    "\n",
    "# Creating the label \n",
    "test_roi_label = []\n",
    "for i in range(len(test_roi_path)):\n",
    "    test_roi_label.append([1, 0])\n",
    "\n",
    "test_roi_label = np.array(test_roi_label)\n",
    "\n",
    "\n",
    "# Creating the label \n",
    "train_notRoi_label = []\n",
    "for i in range(len(train_notRoi_path)):\n",
    "    train_notRoi_label.append([0, 1])\n",
    "\n",
    "train_notRoi_label = np.array(train_notRoi_label)\n",
    "\n",
    "# Creating the label \n",
    "val_notRoi_label = []\n",
    "for i in range(len(val_notRoi_path)):\n",
    "    val_notRoi_label.append([0, 1])\n",
    "\n",
    "val_notRoi_label = np.array(val_notRoi_label)\n",
    "\n",
    "\n",
    "# Creating the label \n",
    "test_notRoi_label = []\n",
    "for i in range(len(test_notRoi_path)):\n",
    "    test_notRoi_label.append([0, 1])\n",
    "\n",
    "test_notRoi_label = np.array(test_notRoi_label)"
   ]
  },
  {
   "cell_type": "code",
   "execution_count": 20,
   "id": "cb8d5e38",
   "metadata": {},
   "outputs": [],
   "source": [
    "hf = h5py.File('D:\\\\sagar\\\\roiClassifier\\\\trainData\\\\TrainValTest_Data_150_150_150_Clip_Norm.hdf5', 'w')\n",
    "hf.create_dataset('roi', data=train_roi, compression='gzip')\n",
    "hf.create_dataset('notRoi', data=train_notRoi, compression='gzip')\n",
    "hf.create_dataset('val_roi', data=val_roi, compression='gzip')\n",
    "hf.create_dataset('val_notRoi', data=val_notRoi, compression='gzip')\n",
    "hf.create_dataset('test_roi', data=test_roi, compression='gzip')\n",
    "hf.create_dataset('test_notRoi', data=test_notRoi, compression='gzip')\n",
    "hf.close()"
   ]
  },
  {
   "cell_type": "code",
   "execution_count": 21,
   "id": "b644e026",
   "metadata": {},
   "outputs": [],
   "source": [
    "hf = h5py.File('D:\\\\sagar\\\\roiClassifier\\\\trainData\\\\TrainValTest_Label_150_150_150_Clip_Norm.hdf5', 'w')\n",
    "hf.create_dataset('roi', data=train_roi_label, compression='gzip')\n",
    "hf.create_dataset('notRoi', data=train_notRoi_label, compression='gzip')\n",
    "hf.create_dataset('val_roi', data=val_roi_label, compression='gzip')\n",
    "hf.create_dataset('val_notRoi', data=val_notRoi_label, compression='gzip')\n",
    "hf.create_dataset('test_roi', data=test_roi_label, compression='gzip')\n",
    "hf.create_dataset('test_notRoi', data=test_notRoi_label, compression='gzip')\n",
    "hf.close()"
   ]
  },
  {
   "cell_type": "code",
   "execution_count": null,
   "id": "377b3c3d",
   "metadata": {},
   "outputs": [],
   "source": [
    "# Data Augmentation : 8 Set Possible\n",
    "# 1. Original Data \n",
    "# 2,3,4,5 Rotate 45, 90, 180 \n",
    "# 6, 7, 8 Flip  "
   ]
  },
  {
   "cell_type": "code",
   "execution_count": null,
   "id": "f12e3efe",
   "metadata": {},
   "outputs": [],
   "source": [
    "aVol = train_roi[0, :, :, :, 0]\n",
    "fig, ax = plt.subplots(2,4, figsize=(16,9))\n",
    "ax[0,0].imshow(aVol[75, :, :,], cmap='gray')\n",
    "ax[0,0].set_title('Orig')\n",
    "\n",
    "rot45 = ndimage.rotate(aVol, 45, reshape=False)\n",
    "ax[0,1].imshow(rot45[75, :, :], cmap='gray')\n",
    "ax[0,1].set_title('rot 45')\n",
    "\n",
    "rot90 = ndimage.rotate(aVol, 90, reshape=False)\n",
    "ax[0,2].imshow(rot90[75, :, :], cmap='gray')\n",
    "ax[0,2].set_title('rot 90')\n",
    "\n",
    "rot180 = ndimage.rotate(aVol, 180, reshape=False)\n",
    "ax[0,3].imshow(rot180[75, :, :], cmap='gray')\n",
    "ax[0,3].set_title('rot 180')\n",
    "\n",
    "###########\n",
    "\n",
    "flip = np.flip(aVol)\n",
    "ax[1,0].imshow(flip[75, :, :], cmap='gray')\n",
    "ax[1,0].set_title('Flip Orig')\n",
    "\n",
    "\n",
    "flip45 = np.flip(rot45)\n",
    "ax[1,1].imshow(flip45[75, :, :], cmap='gray')\n",
    "ax[1,1].set_title('Flip 45')\n",
    "\n",
    "flip90 = np.flip(rot90)\n",
    "ax[1,2].imshow(flip90[75, :, :], cmap='gray')\n",
    "ax[1,2].set_title('Flip 90')\n",
    "\n",
    "flip180 = np.flip(rot180)\n",
    "ax[1,3].imshow(flip180[75, :, :], cmap='gray')\n",
    "ax[1,3].set_title('Flip 180')\n",
    "\n",
    "plt.show()\n",
    "\n",
    "plt.close()"
   ]
  },
  {
   "cell_type": "code",
   "execution_count": null,
   "id": "bd9b43fc",
   "metadata": {},
   "outputs": [],
   "source": [
    "import gc"
   ]
  },
  {
   "cell_type": "code",
   "execution_count": null,
   "id": "105dee05",
   "metadata": {},
   "outputs": [],
   "source": [
    "# Rotate formatted volume \n",
    "def rotateFormattedVol(arr, angle, reshape=False):\n",
    "    result = np.empty_like(arr)\n",
    "    for i in range(arr.shape[0]):\n",
    "        vol = arr[i, :, :, :, 0]\n",
    "        vol = ndimage.rotate(vol, angle, reshape=reshape)\n",
    "        vol[ vol < 0] = 0\n",
    "        vol[ vol > 1] = 1\n",
    "        result[i, :, :, :, 0] = vol \n",
    "        \n",
    "    return result\n",
    "\n",
    "\n",
    "# Flip formatted volume \n",
    "def flipFormattedVol(arr):\n",
    "    result = np.empty_like(arr)\n",
    "    for i in range(arr.shape[0]):\n",
    "        vol = arr[i, :, :, :, 0]\n",
    "        vol = np.flip(vol)\n",
    "        result[i, :, :, :, 0] = vol \n",
    "    \n",
    "    return result\n",
    "    "
   ]
  },
  {
   "cell_type": "code",
   "execution_count": null,
   "id": "cf2b747f",
   "metadata": {},
   "outputs": [],
   "source": [
    "trainDataROI = np.concatenate( (train_roi, flipFormattedVol(train_roi), \n",
    "                                rotateFormattedVol(train_roi, 45), flipFormattedVol(rotateFormattedVol(train_roi, 45)), \n",
    "                                rotateFormattedVol(train_roi, 90), flipFormattedVol(rotateFormattedVol(train_roi, 90)), \n",
    "                                rotateFormattedVol(train_roi, 180), flipFormattedVol(rotateFormattedVol(train_roi, 180))),\n",
    "                                axis=0)\n",
    "\n",
    "train_label_ROI = np.concatenate((train_roi_label, train_roi_label,\n",
    "                                  train_roi_label, train_roi_label,\n",
    "                                  train_roi_label, train_roi_label,\n",
    "                                  train_roi_label, train_roi_label), axis=0)"
   ]
  },
  {
   "cell_type": "code",
   "execution_count": null,
   "id": "72ca074d",
   "metadata": {},
   "outputs": [],
   "source": [
    "del train_roi\n",
    "del train_roi_label\n",
    "gc.collect()"
   ]
  },
  {
   "cell_type": "code",
   "execution_count": null,
   "id": "2605d6fd",
   "metadata": {},
   "outputs": [],
   "source": [
    "trainDatanotROI = np.concatenate( (train_notRoi, flipFormattedVol(train_notRoi), \n",
    "                                rotateFormattedVol(train_notRoi, 45), flipFormattedVol(rotateFormattedVol(train_notRoi, 45)), \n",
    "                                rotateFormattedVol(train_notRoi, 90), flipFormattedVol(rotateFormattedVol(train_notRoi, 90)), \n",
    "                                rotateFormattedVol(train_notRoi, 180), flipFormattedVol(rotateFormattedVol(train_notRoi, 180))),\n",
    "                                axis=0)\n",
    "\n",
    "train_label_notROI = np.concatenate((train_notRoi_label, train_notRoi_label,\n",
    "                                  train_notRoi_label, train_notRoi_label,\n",
    "                                  train_notRoi_label, train_notRoi_label,\n",
    "                                  train_notRoi_label, train_notRoi_label), axis=0)"
   ]
  },
  {
   "cell_type": "code",
   "execution_count": null,
   "id": "2fe7e3c0",
   "metadata": {},
   "outputs": [],
   "source": [
    "hf = h5py.File('E:\\\\sagar\\\\Data\\\\TrainDataAug.hdf5', 'w')\n",
    "hf.create_dataset('roi', data=trainDataROI, compression='gzip')\n",
    "hf.create_dataset('notRoi', data=trainDatanotROI, compression='gzip')\n",
    "hf.close()"
   ]
  },
  {
   "cell_type": "code",
   "execution_count": null,
   "id": "31f1eb49",
   "metadata": {},
   "outputs": [],
   "source": [
    "hf = h5py.File('E:\\\\sagar\\\\Data\\\\TrainLabelAug.hdf5', 'w')\n",
    "hf.create_dataset('roi', data=train_label_ROI, compression='gzip')\n",
    "hf.create_dataset('notRoi', data=train_label_notROI, compression='gzip')\n",
    "hf.close()"
   ]
  },
  {
   "cell_type": "code",
   "execution_count": null,
   "id": "44297694",
   "metadata": {},
   "outputs": [],
   "source": []
  },
  {
   "cell_type": "code",
   "execution_count": null,
   "id": "c4f5cd0e",
   "metadata": {},
   "outputs": [],
   "source": []
  }
 ],
 "metadata": {
  "kernelspec": {
   "display_name": "Python 3 (ipykernel)",
   "language": "python",
   "name": "python3"
  },
  "language_info": {
   "codemirror_mode": {
    "name": "ipython",
    "version": 3
   },
   "file_extension": ".py",
   "mimetype": "text/x-python",
   "name": "python",
   "nbconvert_exporter": "python",
   "pygments_lexer": "ipython3",
   "version": "3.7.13"
  }
 },
 "nbformat": 4,
 "nbformat_minor": 5
}

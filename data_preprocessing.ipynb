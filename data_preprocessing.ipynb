{
 "cells": [
  {
   "cell_type": "code",
   "execution_count": 1,
   "id": "b2bec061",
   "metadata": {},
   "outputs": [],
   "source": [
    "import os\n",
    "from glob import glob\n",
    "from tqdm import tqdm \n",
    "\n",
    "import numpy as np\n",
    "import matplotlib.pyplot as plt \n",
    "\n",
    "import tifffile \n",
    "import json\n",
    "import h5py\n",
    "\n",
    "from PIL import Image\n",
    "from scipy import ndimage\n",
    "\n",
    "from tkinter import Tcl\n",
    "#from random import shuffle\n",
    "\n",
    "from sklearn.utils import shuffle\n",
    "\n",
    "#from random import Random\n",
    "\n",
    "from preProcessingUtils import *"
   ]
  },
  {
   "cell_type": "code",
   "execution_count": 2,
   "id": "9afb4707",
   "metadata": {},
   "outputs": [],
   "source": [
    "root_dir = 'D:\\sagar\\Data'\n",
    "scans = os.listdir(root_dir)"
   ]
  },
  {
   "cell_type": "code",
   "execution_count": 3,
   "id": "2d98736c",
   "metadata": {},
   "outputs": [
    {
     "name": "stdout",
     "output_type": "stream",
     "text": [
      "Found  533  ROI and  561  notROI sample\n"
     ]
    }
   ],
   "source": [
    "path_roi = []\n",
    "path_notRoi = []\n",
    "\n",
    "for s in scans:\n",
    "    scan_path = os.path.join(root_dir, s)\n",
    "    for r in os.listdir(os.path.join(scan_path, 'roi')):\n",
    "        path_roi.append((os.path.join(root_dir, s, 'roi', r)))\n",
    "    try:\n",
    "        for nr in os.listdir(os.path.join(scan_path, 'not_roi')):\n",
    "            path_notRoi.append((os.path.join(root_dir, s, 'not_roi', nr)))\n",
    "    except:\n",
    "        pass\n",
    "\n",
    "print('Found ', len(path_roi), ' ROI and ', len(path_notRoi), ' notROI sample')         "
   ]
  },
  {
   "cell_type": "code",
   "execution_count": 4,
   "id": "6b98e5e4",
   "metadata": {},
   "outputs": [],
   "source": [
    "# Shuffleing and choosing the sample for test and train \n",
    "path_roi = shuffle(path_roi, random_state=3)\n",
    "path_notRoi = shuffle(path_notRoi, random_state=3)"
   ]
  },
  {
   "cell_type": "code",
   "execution_count": 5,
   "id": "96aa83dc",
   "metadata": {},
   "outputs": [],
   "source": [
    "train_roi_path, test_roi_path = path_roi[0:500], path_roi[500:533]\n",
    "train_notRoi_path, test_notRoi_path = path_notRoi[0:500], path_notRoi[500:561]"
   ]
  },
  {
   "cell_type": "code",
   "execution_count": null,
   "id": "4ab966ad",
   "metadata": {},
   "outputs": [],
   "source": []
  },
  {
   "cell_type": "code",
   "execution_count": null,
   "id": "730f8b4f",
   "metadata": {},
   "outputs": [],
   "source": []
  },
  {
   "cell_type": "code",
   "execution_count": 6,
   "id": "ccbac188",
   "metadata": {},
   "outputs": [],
   "source": [
    "def create_formatted_data(dataPath, xdim=300, ydim=300, zdim=300, resize_factor=(0.5, 0.5, 0.5)):\n",
    "    \n",
    "    print('Loading ', len(dataPath), ' Samples.... ')\n",
    "    \n",
    "    formattedData = np.empty(shape=(len(dataPath), int(xdim*resize_factor[0]), int(ydim*resize_factor[1]), int(zdim*resize_factor[2]), 1), dtype=np.float32)\n",
    "\n",
    "    for i, afile in enumerate(tqdm(dataPath)):\n",
    "        raw_vol = []\n",
    "        #sorting the slices according to their names like in windows \n",
    "        slices = Tcl().call('lsort', '-dict', os.listdir(afile))\n",
    "        for aSlice in slices:\n",
    "            img = Image.open(os.path.join(afile, aSlice))\n",
    "            imgarray = np.array(img)\n",
    "            raw_vol.append(imgarray)\n",
    "\n",
    "        raw_vol = np.asarray(raw_vol)\n",
    "        raw_vol = np.nan_to_num(raw_vol)\n",
    "        # Normalize the data : 0-1\n",
    "        vol = norm(raw_vol)\n",
    "        formattedData[i, :, :, :, 0] = ndimage.zoom(vol, resize_factor, order=1)\n",
    "    \n",
    "    print('Loaded ', len(dataPath), ' Samples with shape ', formattedData.shape, '\\n')\n",
    "    return formattedData\n",
    "    "
   ]
  },
  {
   "cell_type": "code",
   "execution_count": 8,
   "id": "c3179b9c",
   "metadata": {},
   "outputs": [
    {
     "name": "stdout",
     "output_type": "stream",
     "text": [
      "Loading  500  Samples.... \n"
     ]
    },
    {
     "name": "stderr",
     "output_type": "stream",
     "text": [
      "100%|████████████████████████████████████████████████████████████████████████████████| 500/500 [07:05<00:00,  1.17it/s]\n"
     ]
    },
    {
     "name": "stdout",
     "output_type": "stream",
     "text": [
      "Loaded  500  Samples with shape  (500, 150, 150, 150, 1) \n",
      "\n",
      "Loading  33  Samples.... \n"
     ]
    },
    {
     "name": "stderr",
     "output_type": "stream",
     "text": [
      "100%|██████████████████████████████████████████████████████████████████████████████████| 33/33 [00:26<00:00,  1.23it/s]"
     ]
    },
    {
     "name": "stdout",
     "output_type": "stream",
     "text": [
      "Loaded  33  Samples with shape  (33, 150, 150, 150, 1) \n",
      "\n"
     ]
    },
    {
     "name": "stderr",
     "output_type": "stream",
     "text": [
      "\n"
     ]
    }
   ],
   "source": [
    "train_roi = create_formatted_data(train_roi_path)\n",
    "test_roi = create_formatted_data(test_roi_path)\n"
   ]
  },
  {
   "cell_type": "code",
   "execution_count": 9,
   "id": "c7c9452a",
   "metadata": {},
   "outputs": [
    {
     "name": "stdout",
     "output_type": "stream",
     "text": [
      "Loading  500  Samples.... \n"
     ]
    },
    {
     "name": "stderr",
     "output_type": "stream",
     "text": [
      "100%|████████████████████████████████████████████████████████████████████████████████| 500/500 [17:57<00:00,  2.16s/it]\n"
     ]
    },
    {
     "name": "stdout",
     "output_type": "stream",
     "text": [
      "Loaded  500  Samples with shape  (500, 150, 150, 150, 1) \n",
      "\n",
      "Loading  61  Samples.... \n"
     ]
    },
    {
     "name": "stderr",
     "output_type": "stream",
     "text": [
      "100%|██████████████████████████████████████████████████████████████████████████████████| 61/61 [01:21<00:00,  1.33s/it]"
     ]
    },
    {
     "name": "stdout",
     "output_type": "stream",
     "text": [
      "Loaded  61  Samples with shape  (61, 150, 150, 150, 1) \n",
      "\n"
     ]
    },
    {
     "name": "stderr",
     "output_type": "stream",
     "text": [
      "\n"
     ]
    }
   ],
   "source": [
    "train_notRoi = create_formatted_data(train_notRoi_path)\n",
    "test_notRoi = create_formatted_data(test_notRoi_path)"
   ]
  },
  {
   "cell_type": "code",
   "execution_count": null,
   "id": "9f2f51e8",
   "metadata": {},
   "outputs": [],
   "source": []
  },
  {
   "cell_type": "code",
   "execution_count": 10,
   "id": "aee0cf74",
   "metadata": {},
   "outputs": [],
   "source": [
    "# Creating the label \n",
    "train_roi_label = []\n",
    "for i in range(len(train_roi_path)):\n",
    "    train_roi_label.append([1, 0])\n",
    "\n",
    "train_roi_label = np.array(train_roi_label)\n",
    "\n",
    "\n",
    "# Creating the label \n",
    "train_notRoi_label = []\n",
    "for i in range(len(train_notRoi_path)):\n",
    "    train_notRoi_label.append([0, 1])\n",
    "\n",
    "train_notRoi_label = np.array(train_notRoi_label)\n",
    "\n",
    "\n",
    "# Creating the label \n",
    "test_roi_label = []\n",
    "for i in range(len(test_roi_path)):\n",
    "    test_roi_label.append([1, 0])\n",
    "\n",
    "test_roi_label = np.array(test_roi_label)\n",
    "\n",
    "\n",
    "# Creating the label \n",
    "test_notRoi_label = []\n",
    "for i in range(len(test_notRoi_path)):\n",
    "    test_notRoi_label.append([0, 1])\n",
    "\n",
    "test_notRoi_label = np.array(test_notRoi_label)"
   ]
  },
  {
   "cell_type": "code",
   "execution_count": 11,
   "id": "eff960c8",
   "metadata": {},
   "outputs": [],
   "source": [
    "hf = h5py.File('Norm_150_150_150_Train.hdf5', 'w')\n",
    "hf.create_dataset('roi', data=train_roi, compression='gzip')\n",
    "hf.create_dataset('notRoi', data=train_notRoi, compression='gzip')\n",
    "hf.close()"
   ]
  },
  {
   "cell_type": "code",
   "execution_count": 12,
   "id": "ab823d8f",
   "metadata": {},
   "outputs": [],
   "source": [
    "hf = h5py.File('Norm_150_150_150_Test.hdf5', 'w')\n",
    "hf.create_dataset('roi', data=test_roi, compression='gzip')\n",
    "hf.create_dataset('notRoi', data=test_notRoi, compression='gzip')\n",
    "hf.close()"
   ]
  },
  {
   "cell_type": "code",
   "execution_count": 13,
   "id": "ec8db9d8",
   "metadata": {},
   "outputs": [],
   "source": [
    "hf = h5py.File('Train_Label.hdf5', 'w')\n",
    "hf.create_dataset('roi', data=train_roi_label, compression='gzip')\n",
    "hf.create_dataset('notRoi', data=train_notRoi_label, compression='gzip')\n",
    "hf.close()"
   ]
  },
  {
   "cell_type": "code",
   "execution_count": 14,
   "id": "6da008bf",
   "metadata": {},
   "outputs": [],
   "source": [
    "hf = h5py.File('Test_Label.hdf5', 'w')\n",
    "hf.create_dataset('roi', data=test_roi_label, compression='gzip')\n",
    "hf.create_dataset('notRoi', data=test_notRoi_label, compression='gzip')\n",
    "hf.close()"
   ]
  },
  {
   "cell_type": "code",
   "execution_count": null,
   "id": "e3d24451",
   "metadata": {},
   "outputs": [],
   "source": []
  }
 ],
 "metadata": {
  "kernelspec": {
   "display_name": "Python 3 (ipykernel)",
   "language": "python",
   "name": "python3"
  },
  "language_info": {
   "codemirror_mode": {
    "name": "ipython",
    "version": 3
   },
   "file_extension": ".py",
   "mimetype": "text/x-python",
   "name": "python",
   "nbconvert_exporter": "python",
   "pygments_lexer": "ipython3",
   "version": "3.9.7"
  }
 },
 "nbformat": 4,
 "nbformat_minor": 5
}

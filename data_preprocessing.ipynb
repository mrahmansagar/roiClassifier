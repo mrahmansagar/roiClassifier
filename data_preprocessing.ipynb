{
 "cells": [
  {
   "cell_type": "code",
   "execution_count": 18,
   "id": "b2bec061",
   "metadata": {},
   "outputs": [],
   "source": [
    "import os\n",
    "from glob import glob\n",
    "from tqdm import tqdm \n",
    "\n",
    "import numpy as np\n",
    "import matplotlib.pyplot as plt \n",
    "\n",
    "import tifffile \n",
    "import json"
   ]
  },
  {
   "cell_type": "code",
   "execution_count": 19,
   "id": "9afb4707",
   "metadata": {},
   "outputs": [],
   "source": [
    "root_dir = 'D:\\sagar\\Data'\n",
    "scans = os.listdir(root_dir)"
   ]
  },
  {
   "cell_type": "code",
   "execution_count": 20,
   "id": "2d98736c",
   "metadata": {},
   "outputs": [],
   "source": [
    "path_roi = []\n",
    "path_notRoi = []\n",
    "\n",
    "for s in scans:\n",
    "    scan_path = os.path.join(root_dir, s)\n",
    "    for r in os.listdir(os.path.join(scan_path, 'roi')):\n",
    "        path_roi.append((os.path.join(root_dir, s, 'roi', r)))\n",
    "    try:\n",
    "        for nr in os.listdir(os.path.join(scan_path, 'not_roi')):\n",
    "            path_notRoi.append((os.path.join(root_dir, s, 'not_roi', nr)))\n",
    "    except:\n",
    "        pass\n",
    "        \n",
    "    \n",
    "    \n",
    "    "
   ]
  },
  {
   "cell_type": "code",
   "execution_count": 23,
   "id": "6b98e5e4",
   "metadata": {},
   "outputs": [
    {
     "data": {
      "text/plain": [
       "533"
      ]
     },
     "execution_count": 23,
     "metadata": {},
     "output_type": "execute_result"
    }
   ],
   "source": [
    "len(path_roi)"
   ]
  },
  {
   "cell_type": "code",
   "execution_count": 24,
   "id": "25e73a22",
   "metadata": {},
   "outputs": [
    {
     "data": {
      "text/plain": [
       "561"
      ]
     },
     "execution_count": 24,
     "metadata": {},
     "output_type": "execute_result"
    }
   ],
   "source": [
    "len(path_notRoi)"
   ]
  },
  {
   "cell_type": "code",
   "execution_count": null,
   "id": "730f8b4f",
   "metadata": {},
   "outputs": [],
   "source": []
  }
 ],
 "metadata": {
  "kernelspec": {
   "display_name": "Python 3 (ipykernel)",
   "language": "python",
   "name": "python3"
  },
  "language_info": {
   "codemirror_mode": {
    "name": "ipython",
    "version": 3
   },
   "file_extension": ".py",
   "mimetype": "text/x-python",
   "name": "python",
   "nbconvert_exporter": "python",
   "pygments_lexer": "ipython3",
   "version": "3.9.7"
  }
 },
 "nbformat": 4,
 "nbformat_minor": 5
}

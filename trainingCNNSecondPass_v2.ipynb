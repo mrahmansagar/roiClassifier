{
 "cells": [
  {
   "cell_type": "code",
   "execution_count": 1,
   "id": "585b0adc",
   "metadata": {},
   "outputs": [],
   "source": [
    "import time\n",
    "import os\n",
    "import gc \n",
    "import h5py\n",
    "import json\n",
    "\n",
    "import numpy as np\n",
    "from tqdm import tqdm\n",
    "from tkinter import Tcl\n",
    "\n",
    "import matplotlib.pyplot as plt \n",
    "\n",
    "from scipy import ndimage\n",
    "from PIL import Image\n",
    "\n",
    "from sklearn.utils import shuffle\n",
    "\n",
    "from preProcessingUtils import *"
   ]
  },
  {
   "cell_type": "code",
   "execution_count": 2,
   "id": "ffd26fe4",
   "metadata": {},
   "outputs": [],
   "source": [
    "root_dir = 'D:\\sagar\\Data'\n",
    "scans = os.listdir(root_dir)"
   ]
  },
  {
   "cell_type": "code",
   "execution_count": 3,
   "id": "b5e4be43",
   "metadata": {},
   "outputs": [
    {
     "name": "stdout",
     "output_type": "stream",
     "text": [
      "Found  532  ROI and  561  notROI sample\n"
     ]
    }
   ],
   "source": [
    "path_roi = []\n",
    "path_notRoi = []\n",
    "\n",
    "for s in scans:\n",
    "    scan_path = os.path.join(root_dir, s)\n",
    "    try:\n",
    "        for r in os.listdir(os.path.join(scan_path, 'roi')):\n",
    "            path_roi.append((os.path.join(root_dir, s, 'roi', r)))\n",
    "    except:\n",
    "        pass\n",
    "    try:    \n",
    "        for nr in os.listdir(os.path.join(scan_path, 'not_roi')):\n",
    "            path_notRoi.append((os.path.join(root_dir, s, 'not_roi', nr)))\n",
    "    except: \n",
    "        pass\n",
    "   \n",
    "\n",
    "print('Found ', len(path_roi), ' ROI and ', len(path_notRoi), ' notROI sample')  "
   ]
  },
  {
   "cell_type": "code",
   "execution_count": null,
   "id": "c596ddb7",
   "metadata": {},
   "outputs": [],
   "source": [
    "# From the classified samples \n",
    "root_dir2 = 'E:\\sagar\\Data'\n",
    "scans2 = os.listdir(root_dir2)"
   ]
  },
  {
   "cell_type": "code",
   "execution_count": null,
   "id": "d8dcb47b",
   "metadata": {},
   "outputs": [],
   "source": [
    "path_TP = []\n",
    "path_FN = []\n",
    "\n",
    "path_FP = []\n",
    "\n",
    "for s in scans2:\n",
    "    scan_path = os.path.join(root_dir2, s)\n",
    "    try:\n",
    "        for r in os.listdir(os.path.join(scan_path, 'TP')):\n",
    "            path_TP.append((os.path.join(root_dir2, s, 'TP', r)))\n",
    "    except:\n",
    "        pass\n",
    "    \n",
    "    try:\n",
    "        for r in os.listdir(os.path.join(scan_path, 'FN')):\n",
    "            path_FN.append((os.path.join(root_dir2, s, 'FN', r)))\n",
    "    except:\n",
    "        pass\n",
    "    \n",
    "    try:    \n",
    "        for nr in os.listdir(os.path.join(scan_path, 'FP')):\n",
    "            path_FP.append((os.path.join(root_dir2, s, 'FP', nr)))\n",
    "    except: \n",
    "        pass\n",
    "   \n",
    "\n",
    "print('Found ', len(path_TP)+len(path_FN), ' ROI and ', len(path_FP), ' notROI sample')  "
   ]
  },
  {
   "cell_type": "code",
   "execution_count": null,
   "id": "f90318e0",
   "metadata": {},
   "outputs": [],
   "source": [
    "# combining the both data set \n",
    "path_roi = path_roi + path_TP + path_FN\n",
    "path_notRoi = path_notRoi + path_FP\n",
    "\n",
    "print('Number of ROI ', len(path_roi), '\\n Number of Not ROI ', len(path_notRoi))"
   ]
  },
  {
   "cell_type": "code",
   "execution_count": null,
   "id": "12db82c3",
   "metadata": {},
   "outputs": [],
   "source": [
    "# Shuffleing and choosing the sample for test and train \n",
    "path_roi = shuffle(path_roi, random_state=32)\n",
    "path_notRoi = shuffle(path_notRoi, random_state=32)"
   ]
  },
  {
   "cell_type": "code",
   "execution_count": null,
   "id": "46adaa95",
   "metadata": {},
   "outputs": [],
   "source": []
  },
  {
   "cell_type": "code",
   "execution_count": null,
   "id": "0b283310",
   "metadata": {},
   "outputs": [],
   "source": []
  },
  {
   "cell_type": "code",
   "execution_count": null,
   "id": "d3a32df9",
   "metadata": {},
   "outputs": [],
   "source": []
  },
  {
   "cell_type": "code",
   "execution_count": null,
   "id": "0230ca3f",
   "metadata": {},
   "outputs": [],
   "source": []
  },
  {
   "cell_type": "code",
   "execution_count": null,
   "id": "2c5bfbc9",
   "metadata": {},
   "outputs": [],
   "source": []
  },
  {
   "cell_type": "code",
   "execution_count": null,
   "id": "bbcaea6b",
   "metadata": {},
   "outputs": [],
   "source": []
  },
  {
   "cell_type": "code",
   "execution_count": null,
   "id": "58628336",
   "metadata": {},
   "outputs": [],
   "source": []
  },
  {
   "cell_type": "code",
   "execution_count": null,
   "id": "47d7b8ec",
   "metadata": {},
   "outputs": [],
   "source": []
  },
  {
   "cell_type": "code",
   "execution_count": null,
   "id": "f565d476",
   "metadata": {},
   "outputs": [],
   "source": []
  },
  {
   "cell_type": "code",
   "execution_count": null,
   "id": "91326f46",
   "metadata": {},
   "outputs": [],
   "source": []
  },
  {
   "cell_type": "code",
   "execution_count": null,
   "id": "a8d7a4db",
   "metadata": {},
   "outputs": [],
   "source": []
  },
  {
   "cell_type": "code",
   "execution_count": null,
   "id": "cc425368",
   "metadata": {},
   "outputs": [],
   "source": []
  },
  {
   "cell_type": "code",
   "execution_count": null,
   "id": "d9ff7177",
   "metadata": {},
   "outputs": [],
   "source": []
  },
  {
   "cell_type": "code",
   "execution_count": null,
   "id": "8ab0844e",
   "metadata": {},
   "outputs": [],
   "source": []
  },
  {
   "cell_type": "code",
   "execution_count": null,
   "id": "01e9b16f",
   "metadata": {},
   "outputs": [],
   "source": []
  },
  {
   "cell_type": "code",
   "execution_count": null,
   "id": "72bf5e67",
   "metadata": {},
   "outputs": [],
   "source": []
  },
  {
   "cell_type": "code",
   "execution_count": null,
   "id": "e27a0a7f",
   "metadata": {},
   "outputs": [],
   "source": []
  },
  {
   "cell_type": "code",
   "execution_count": null,
   "id": "7764e267",
   "metadata": {},
   "outputs": [],
   "source": []
  },
  {
   "cell_type": "code",
   "execution_count": null,
   "id": "3ea5cdba",
   "metadata": {},
   "outputs": [],
   "source": []
  },
  {
   "cell_type": "code",
   "execution_count": null,
   "id": "b96ef9bc",
   "metadata": {},
   "outputs": [],
   "source": []
  }
 ],
 "metadata": {
  "kernelspec": {
   "display_name": "Python 3 (ipykernel)",
   "language": "python",
   "name": "python3"
  },
  "language_info": {
   "codemirror_mode": {
    "name": "ipython",
    "version": 3
   },
   "file_extension": ".py",
   "mimetype": "text/x-python",
   "name": "python",
   "nbconvert_exporter": "python",
   "pygments_lexer": "ipython3",
   "version": "3.7.13"
  }
 },
 "nbformat": 4,
 "nbformat_minor": 5
}

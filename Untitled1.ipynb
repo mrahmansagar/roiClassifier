{
 "cells": [
  {
   "cell_type": "code",
   "execution_count": 1,
   "id": "a73de01b",
   "metadata": {},
   "outputs": [],
   "source": [
    "import os \n",
    "import json\n",
    "import numpy \n"
   ]
  },
  {
   "cell_type": "code",
   "execution_count": 5,
   "id": "f757b139",
   "metadata": {},
   "outputs": [],
   "source": [
    "data_dir = 'E:\\\\sagar\\\\Data\\\\MD_1264_A6_1_Z6.6mm_corr_phrt\\\\'\n",
    "modelName = 'best_model_09271238.hdf5'"
   ]
  },
  {
   "cell_type": "code",
   "execution_count": 6,
   "id": "85ff0033",
   "metadata": {},
   "outputs": [],
   "source": [
    "roi = os.listdir(os.path.join(data_dir, 'TP'))\n",
    "not_roi = os.listdir(os.path.join(data_dir, 'TN'))"
   ]
  },
  {
   "cell_type": "code",
   "execution_count": null,
   "id": "df3e7e0a",
   "metadata": {},
   "outputs": [],
   "source": []
  },
  {
   "cell_type": "code",
   "execution_count": null,
   "id": "89eae0f4",
   "metadata": {},
   "outputs": [],
   "source": []
  },
  {
   "cell_type": "code",
   "execution_count": 7,
   "id": "40a83c16",
   "metadata": {},
   "outputs": [],
   "source": [
    "classified = {}\n",
    "classified['roi'] = roi\n",
    "classified['not_roi'] = not_roi\n",
    "\n",
    "import json\n",
    "jsonString = json.dumps(classified)\n",
    "jsonFile = open(data_dir + 'Classified_' + modelName.split('.')[0] + '.json', \"w\")\n",
    "jsonFile.write(jsonString)\n",
    "jsonFile.close()"
   ]
  },
  {
   "cell_type": "code",
   "execution_count": null,
   "id": "a8be9e08",
   "metadata": {},
   "outputs": [],
   "source": []
  }
 ],
 "metadata": {
  "kernelspec": {
   "display_name": "Python 3 (ipykernel)",
   "language": "python",
   "name": "python3"
  },
  "language_info": {
   "codemirror_mode": {
    "name": "ipython",
    "version": 3
   },
   "file_extension": ".py",
   "mimetype": "text/x-python",
   "name": "python",
   "nbconvert_exporter": "python",
   "pygments_lexer": "ipython3",
   "version": "3.7.13"
  }
 },
 "nbformat": 4,
 "nbformat_minor": 5
}
